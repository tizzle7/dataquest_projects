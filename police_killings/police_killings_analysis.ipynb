{
 "cells": [
  {
   "cell_type": "markdown",
   "metadata": {},
   "source": [
    "police killings analysis"
   ]
  },
  {
   "cell_type": "code",
   "execution_count": 1,
   "metadata": {
    "collapsed": true
   },
   "outputs": [],
   "source": [
    "import numpy as np\n",
    "import pandas as pd\n",
    "import matplotlib.pyplot as plt\n",
    "\n",
    "%matplotlib inline\n",
    "\n",
    "# import main data file\n",
    "police_killings = pd.read_csv(\"police_killings.csv\", encoding=\"ISO-8859-1\")"
   ]
  },
  {
   "cell_type": "markdown",
   "metadata": {},
   "source": [
    "data analysis, first we look at the number of killings for each race and compare the results in a bar graph"
   ]
  },
  {
   "cell_type": "code",
   "execution_count": 2,
   "metadata": {
    "collapsed": false
   },
   "outputs": [
    {
     "data": {
      "text/plain": [
       "[[<matplotlib.text.Text at 0x7fbe12f5f550>,\n",
       "  <matplotlib.text.Text at 0x7fbe12f63278>,\n",
       "  <matplotlib.text.Text at 0x7fbe12f2eda0>,\n",
       "  <matplotlib.text.Text at 0x7fbe12f337f0>,\n",
       "  <matplotlib.text.Text at 0x7fbe12f37240>,\n",
       "  <matplotlib.text.Text at 0x7fbe12f37c50>],\n",
       " <matplotlib.text.Text at 0x7fbe12fccac8>,\n",
       " [<matplotlib.axis.XTick at 0x7fbe12fcc7f0>,\n",
       "  <matplotlib.axis.XTick at 0x7fbe12fc55c0>,\n",
       "  <matplotlib.axis.XTick at 0x7fbe12fc5940>,\n",
       "  <matplotlib.axis.XTick at 0x7fbe12f2ef60>,\n",
       "  <matplotlib.axis.XTick at 0x7fbe12f339b0>,\n",
       "  <matplotlib.axis.XTick at 0x7fbe12f37400>]]"
      ]
     },
     "execution_count": 2,
     "metadata": {},
     "output_type": "execute_result"
    },
    {
     "data": {
      "image/png": "[encoded data removed]",
      "text/plain": [
       "<matplotlib.figure.Figure at 0x7fbe12e8f7b8>"
      ]
     },
     "metadata": {},
     "output_type": "display_data"
    }
   ],
   "source": [
    "# calculate the number of killings for each race and compare the results in\n",
    "# a bar chart\n",
    "race_counts = police_killings[\"raceethnicity\"].value_counts()\n",
    "people_killed_count = police_killings[\"raceethnicity\"].value_counts().sum()\n",
    "race_counts_percentage = race_counts / people_killed_count\n",
    "x_labels = race_counts.index.tolist()\n",
    "\n",
    "fig1, (ax1, ax2) = plt.subplots(2, 1, figsize=(11,8))\n",
    "ax1.bar(range(len(race_counts)), race_counts)\n",
    "ax1.set(xticks=np.arange(len(race_counts)) + 0.4, \n",
    "        xticklabels=x_labels,\n",
    "        ylabel=\"# of people killed\")\n",
    "ax2.bar(range(len(race_counts_percentage)), race_counts_percentage)\n",
    "ax2.set(xticks=np.arange(len(race_counts)) + 0.4, \n",
    "        xticklabels=x_labels,\n",
    "        ylabel=\"Percentage of people killed\")"
   ]
  },
  {
   "cell_type": "markdown",
   "metadata": {},
   "source": [
    "clean up the median personal icome column (get ride of empty values), visualize the incomes in a histomgram"
   ]
  },
  {
   "cell_type": "code",
   "execution_count": 3,
   "metadata": {
    "collapsed": false,
    "scrolled": true
   },
   "outputs": [
    {
     "data": {
      "text/plain": [
       "[<matplotlib.text.Text at 0x7fbe12fccfd0>,\n",
       " <matplotlib.text.Text at 0x7fbe12ef9da0>]"
      ]
     },
     "execution_count": 3,
     "metadata": {},
     "output_type": "execute_result"
    },
    {
     "data": {
      "image/png": "[encoded data removed]",
      "text/plain": [
       "<matplotlib.figure.Figure at 0x7fbe3857b978>"
      ]
     },
     "metadata": {},
     "output_type": "display_data"
    }
   ],
   "source": [
    "# create histogram of the median personal income column, requires some data cleaning first\n",
    "income = police_killings[\"p_income\"][police_killings[\"p_income\"] != \"-\"]\n",
    "income = income.astype(int) # convert from str to int\n",
    "\n",
    "fig2, ax = plt.subplots(1, 1)\n",
    "plt.hist(income, bins=50)\n",
    "ax.set(xlabel=\"Median personal income\", ylabel=\"Frequency\")"
   ]
  },
  {
   "cell_type": "markdown",
   "metadata": {},
   "source": [
    "compare the number of shootings on a state level (killings per million population), import second datafile containging the population of each state in 2015, police_killings.csv only contains the state abbreviation which is not included in state_populations_2015.csv, thus merge the two frames using the census code column, "
   ]
  },
  {
   "cell_type": "code",
   "execution_count": 4,
   "metadata": {
    "collapsed": false,
    "scrolled": true
   },
   "outputs": [
    {
     "name": "stdout",
     "output_type": "stream",
     "text": [
      "        NAME  shootings_per_million\n",
      "4   Oklahoma               5.624674\n",
      "3    Arizona               3.661359\n",
      "27  Nebraska               3.164240\n",
      "34    Hawaii               2.794071\n",
      "39    Alaska               2.708442\n",
      "\n",
      "[5 rows x 2 columns]\n",
      "\n",
      "             NAME  shootings_per_million\n",
      "29  Massachusetts               0.735898\n",
      "6        New York               0.656705\n",
      "38           Iowa               0.640226\n",
      "22   Pennsylvania               0.546768\n",
      "43    Connecticut               0.278483\n",
      "\n",
      "[5 rows x 2 columns]\n"
     ]
    }
   ],
   "source": [
    "# import state populations data\n",
    "state_pop = pd.read_csv(\"state_populations_2015.csv\")\n",
    "\n",
    "# calculate sum of shootings for each state identified by the census code\n",
    "counts = police_killings[\"state_fp\"].value_counts()\n",
    "\n",
    "# create new dataframe containing census codes in an own column\n",
    "states = pd.DataFrame({\"STATE\": counts.index,\n",
    "                       \"shootings\": counts})\n",
    "\n",
    "# merge the states dataframe containg the shooting numbers with the population dataframe \n",
    "# based on the census code column\n",
    "states = states.merge(state_pop, on=\"STATE\")\n",
    "\n",
    "# add a column containing the population size in millions\n",
    "states[\"pop_millions\"] = states[\"POPESTIMATE2015\"] / 1e6 \n",
    "\n",
    "# add a column containing the number of police shootings per million of state population\n",
    "states[\"shootings_per_million\"] = states[\"shootings\"] / states[\"pop_millions\"]\n",
    "\n",
    "# sort the dataframe based on the shootings rate in descending order\n",
    "states = states.sort(columns=\"shootings_per_million\", ascending=False)\n",
    "\n",
    "# print out the top five states with the most and the least shootings per million inhabitants\n",
    "print(states.head(5)[[\"NAME\", \"shootings_per_million\"]])\n",
    "print()\n",
    "print(states.tail(5)[[\"NAME\", \"shootings_per_million\"]]) "
   ]
  },
  {
   "cell_type": "markdown",
   "metadata": {},
   "source": [
    "clean up further rows for analysis, split dataframe into 10 states with the lowest shooting rates and 10 states with the highest shooting rates, calculate the means of certain columns for both dataframes to find any interesting patterns"
   ]
  },
  {
   "cell_type": "code",
   "execution_count": 5,
   "metadata": {
    "collapsed": false
   },
   "outputs": [
    {
     "name": "stdout",
     "output_type": "stream",
     "text": [
      "pop                4201.660714\n",
      "county_income     54830.839286\n",
      "share_white          60.616071\n",
      "share_black          21.257143\n",
      "share_hispanic       12.948214\n",
      "dtype: float64\n",
      "\n",
      "pop                4315.750000\n",
      "county_income     48706.967391\n",
      "share_white          55.652174\n",
      "share_black          11.532609\n",
      "share_hispanic       20.693478\n",
      "dtype: float64\n"
     ]
    },
    {
     "name": "stderr",
     "output_type": "stream",
     "text": [
      "/usr/lib/python3/dist-packages/pandas/core/frame.py:1908: SettingWithCopyWarning: A value is trying to be set on a copy of a slice from a DataFrame.\n",
      "Try using .loc[row_index,col_indexer] = value instead\n",
      "  self[k1] = value[k2]\n"
     ]
    }
   ],
   "source": [
    "# get rid of rows containing empty values in the race columns\n",
    "pk = police_killings[(police_killings[\"share_white\"] != \"-\") &\n",
    "                     (police_killings[\"share_black\"] != \"-\") &\n",
    "                     (police_killings[\"share_hispanic\"] != \"-\")]\n",
    "pk[[\"share_white\", \"share_black\", \"share_hispanic\"]] = pk[\n",
    "    [\"share_white\", \"share_black\", \"share_hispanic\"]].astype(float)\n",
    "\n",
    "# split data by shootings per million rating\n",
    "lowest_10_states = [\"CT\", \"PA\", \"IA\", \"NY\", \"MA\", \"NH\", \"ME\", \"IL\", \"OH\", \"WI\"]\n",
    "highest_10_states = [\"OK\", \"AZ\", \"NE\", \"HI\", \"AK\", \"ID\", \"NM\", \"LA\", \"CO\", \"DE\"]\n",
    "\n",
    "low_pk = pk[pk[\"state\"].isin(lowest_10_states)]\n",
    "high_pk = pk[pk[\"state\"].isin(highest_10_states)]\n",
    "\n",
    "# calculate the mean values for certain columns for both datasets\n",
    "cols = [\"pop\", \"county_income\", \"share_white\", \"share_black\", \"share_hispanic\"]\n",
    "\n",
    "mean_low_pk_values = low_pk[cols].mean()\n",
    "mean_high_pk_values = high_pk[cols].mean()\n",
    "\n",
    "# print out the results\n",
    "print(mean_low_pk_values)\n",
    "print()\n",
    "print(mean_high_pk_values)"
   ]
  },
  {
   "cell_type": "markdown",
   "metadata": {},
   "source": [
    "create a chloropleth map to map out the state level killing rates\n",
    "\n",
    "http://ramiro.org/notebook/basemap-choropleth/\n",
    "\n",
    "to do....\n"
   ]
  },
  {
   "cell_type": "code",
   "execution_count": null,
   "metadata": {
    "collapsed": true
   },
   "outputs": [],
   "source": []
  }
 ],
 "metadata": {
  "kernelspec": {
   "display_name": "Python 3",
   "language": "python",
   "name": "python3"
  },
  "language_info": {
   "codemirror_mode": {
    "name": "ipython",
    "version": 3
   },
   "file_extension": ".py",
   "mimetype": "text/x-python",
   "name": "python",
   "nbconvert_exporter": "python",
   "pygments_lexer": "ipython3",
   "version": "3.4.3"
  }
 },
 "nbformat": 4,
 "nbformat_minor": 0
}
