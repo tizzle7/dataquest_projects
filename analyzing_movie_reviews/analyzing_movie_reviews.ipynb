{
 "cells": [
  {
   "cell_type": "markdown",
   "metadata": {},
   "source": [
    "analyzing movie reviews"
   ]
  },
  {
   "cell_type": "code",
   "execution_count": 1,
   "metadata": {
    "collapsed": false
   },
   "outputs": [
    {
     "name": "stdout",
     "output_type": "stream",
     "text": [
      "                             FILM  RottenTomatoes  RottenTomatoes_User  \\\n",
      "0  Avengers: Age of Ultron (2015)              74                   86   \n",
      "1               Cinderella (2015)              85                   80   \n",
      "2                  Ant-Man (2015)              80                   90   \n",
      "3          Do You Believe? (2015)              18                   84   \n",
      "4   Hot Tub Time Machine 2 (2015)              14                   28   \n",
      "\n",
      "   Metacritic  Metacritic_User  IMDB  Fandango_Stars  Fandango_Ratingvalue  \\\n",
      "0          66              7.1   7.8             5.0                   4.5   \n",
      "1          67              7.5   7.1             5.0                   4.5   \n",
      "2          64              8.1   7.8             5.0                   4.5   \n",
      "3          22              4.7   5.4             5.0                   4.5   \n",
      "4          29              3.4   5.1             3.5                   3.0   \n",
      "\n",
      "   RT_norm  RT_user_norm         ...           IMDB_norm  RT_norm_round  \\\n",
      "0     3.70           4.3         ...                3.90            3.5   \n",
      "1     4.25           4.0         ...                3.55            4.5   \n",
      "2     4.00           4.5         ...                3.90            4.0   \n",
      "3     0.90           4.2         ...                2.70            1.0   \n",
      "4     0.70           1.4         ...                2.55            0.5   \n",
      "\n",
      "   RT_user_norm_round  Metacritic_norm_round  Metacritic_user_norm_round  \\\n",
      "0                 4.5                    3.5                         3.5   \n",
      "1                 4.0                    3.5                         4.0   \n",
      "2                 4.5                    3.0                         4.0   \n",
      "3                 4.0                    1.0                         2.5   \n",
      "4                 1.5                    1.5                         1.5   \n",
      "\n",
      "   IMDB_norm_round  Metacritic_user_vote_count  IMDB_user_vote_count  \\\n",
      "0              4.0                        1330                271107   \n",
      "1              3.5                         249                 65709   \n",
      "2              4.0                         627                103660   \n",
      "3              2.5                          31                  3136   \n",
      "4              2.5                          88                 19560   \n",
      "\n",
      "   Fandango_votes  Fandango_Difference  \n",
      "0           14846                  0.5  \n",
      "1           12640                  0.5  \n",
      "2           12055                  0.5  \n",
      "3            1793                  0.5  \n",
      "4            1021                  0.5  \n",
      "\n",
      "[5 rows x 22 columns]\n"
     ]
    }
   ],
   "source": [
    "import matplotlib.pyplot as plt\n",
    "import numpy as np\n",
    "import pandas as pd\n",
    "from scipy.stats import linregress\n",
    "from scipy.stats import pearsonr\n",
    "\n",
    "%matplotlib inline\n",
    "\n",
    "# import data\n",
    "movies = pd.read_csv(\"fandango_score_comparison.csv\")\n",
    "\n",
    "# print out first five lines of the dataframe\n",
    "print(movies.head())"
   ]
  },
  {
   "cell_type": "code",
   "execution_count": 2,
   "metadata": {
    "collapsed": false
   },
   "outputs": [
    {
     "data": {
      "text/plain": [
       "[<matplotlib.text.Text at 0x7f90fe5726d8>,\n",
       " (0, 5),\n",
       " <matplotlib.text.Text at 0x7f90fe5d7f98>,\n",
       " <matplotlib.text.Text at 0x7f90fe5936a0>]"
      ]
     },
     "execution_count": 2,
     "metadata": {},
     "output_type": "execute_result"
    },
    {
     "data": {
      "image/png": "[encoded data removed]",
      "text/plain": [
       "<matplotlib.figure.Figure at 0x7f90fe5b1ef0>"
      ]
     },
     "metadata": {},
     "output_type": "display_data"
    }
   ],
   "source": [
    "# create a histogram of the Fandango ratings\n",
    "fig1 = plt.figure()\n",
    "ax1 = fig1.add_subplot(1, 1, 1)\n",
    "ax1.hist(movies[\"Fandango_Stars\"])\n",
    "ax1.set(xlabel=\"Fandango_Stars\", ylabel=\"Frequency\", \n",
    "        title=\"Histogram Fandango_Stars\", xlim=(0, 5))"
   ]
  },
  {
   "cell_type": "code",
   "execution_count": 3,
   "metadata": {
    "collapsed": false
   },
   "outputs": [
    {
     "data": {
      "text/plain": [
       "[<matplotlib.text.Text at 0x7f90fe4c0b70>,\n",
       " (0, 5),\n",
       " <matplotlib.text.Text at 0x7f90fe4b6588>,\n",
       " <matplotlib.text.Text at 0x7f90fe4d9ef0>]"
      ]
     },
     "execution_count": 3,
     "metadata": {},
     "output_type": "execute_result"
    },
    {
     "data": {
      "image/png": "[encoded data removed]",
      "text/plain": [
       "<matplotlib.figure.Figure at 0x7f90fe53e940>"
      ]
     },
     "metadata": {},
     "output_type": "display_data"
    }
   ],
   "source": [
    "# plot a histogram of the normalized Metacritic scores\n",
    "fig2 = plt.figure()\n",
    "ax2 = fig2.add_subplot(1, 1, 1)\n",
    "ax2.hist(movies[\"Metacritic_norm_round\"])\n",
    "ax2.set(xlabel=\"Metacritic_norm_round\", ylabel=\"Frequency\", title=\"Histogram Metacritic_norm_round\", xlim=(0, 5))"
   ]
  },
  {
   "cell_type": "code",
   "execution_count": 4,
   "metadata": {
    "collapsed": false
   },
   "outputs": [
    {
     "name": "stdout",
     "output_type": "stream",
     "text": [
      "\t\t\t Mean\t\t\t Median\t std\n",
      "Fandango_Stars \t\t 4.089041095890411 \t 4.0 \t 0.5385321612699531\n",
      "Metacritic_norm_round \t 2.9726027397260273 \t 3.0 \t 0.9875610297038631\n"
     ]
    }
   ],
   "source": [
    "# calculate the mean, median and std for both rating columns and compare the results\n",
    "fan_star_mean = movies[\"Fandango_Stars\"].mean()\n",
    "fan_star_med = movies[\"Fandango_Stars\"].median()\n",
    "fan_star_std = np.std(movies[\"Fandango_Stars\"])\n",
    "\n",
    "met_norm_round_mean = movies[\"Metacritic_norm_round\"].mean()\n",
    "met_norm_round_med = movies[\"Metacritic_norm_round\"].median()\n",
    "met_norm_round_std = np.std(movies[\"Metacritic_norm_round\"])\n",
    "\n",
    "print(\"\\t\\t\\t Mean\\t\\t\\t Median\\t std\")\n",
    "print(\"Fandango_Stars \\t\\t {0} \\t {1} \\t {2}\".format(fan_star_mean, fan_star_med, fan_star_std))\n",
    "print(\"Metacritic_norm_round \\t {0} \\t {1} \\t {2}\".format(met_norm_round_mean, met_norm_round_med, \n",
    "                                                          met_norm_round_std))"
   ]
  },
  {
   "cell_type": "code",
   "execution_count": 5,
   "metadata": {
    "collapsed": false,
    "scrolled": true
   },
   "outputs": [
    {
     "data": {
      "text/plain": [
       "[(0, 5),\n",
       " <matplotlib.text.Text at 0x7f90fe445160>,\n",
       " (0, 5),\n",
       " <matplotlib.text.Text at 0x7f90fe4bd198>]"
      ]
     },
     "execution_count": 5,
     "metadata": {},
     "output_type": "execute_result"
    },
    {
     "data": {
      "image/png": "[encoded data removed]",
      "text/plain": [
       "<matplotlib.figure.Figure at 0x7f90fe4d0b38>"
      ]
     },
     "metadata": {},
     "output_type": "display_data"
    }
   ],
   "source": [
    "# scatter plot to compare the two rating columns\n",
    "fig3 = plt.figure()\n",
    "ax3 = fig3.add_subplot(1, 1, 1)\n",
    "ax3.scatter(movies[\"Fandango_Stars\"], movies[\"Metacritic_norm_round\"])\n",
    "ax3.set(xlabel=\"Fandango_Stars\", ylabel=\"Metacritic_norm_round\", xlim=(0, 5), ylim=(0, 5))"
   ]
  },
  {
   "cell_type": "code",
   "execution_count": 6,
   "metadata": {
    "collapsed": false
   },
   "outputs": [
    {
     "name": "stdout",
     "output_type": "stream",
     "text": [
      "                        FILM  RottenTomatoes  RottenTomatoes_User  Metacritic  \\\n",
      "3     Do You Believe? (2015)              18                   84          22   \n",
      "85         Little Boy (2015)              20                   81          30   \n",
      "47              Annie (2014)              27                   61          33   \n",
      "19             Pixels (2015)              17                   54          27   \n",
      "134  The Longest Ride (2015)              31                   73          33   \n",
      "\n",
      "     Metacritic_User  IMDB  Fandango_Stars  Fandango_Ratingvalue  RT_norm  \\\n",
      "3                4.7   5.4             5.0                   4.5     0.90   \n",
      "85               5.9   7.4             4.5                   4.3     1.00   \n",
      "47               4.8   5.2             4.5                   4.2     1.35   \n",
      "19               5.3   5.6             4.5                   4.1     0.85   \n",
      "134              4.8   7.2             4.5                   4.5     1.55   \n",
      "\n",
      "     RT_user_norm   ...     RT_norm_round  RT_user_norm_round  \\\n",
      "3            4.20   ...               1.0                 4.0   \n",
      "85           4.05   ...               1.0                 4.0   \n",
      "47           3.05   ...               1.5                 3.0   \n",
      "19           2.70   ...               1.0                 2.5   \n",
      "134          3.65   ...               1.5                 3.5   \n",
      "\n",
      "     Metacritic_norm_round  Metacritic_user_norm_round  IMDB_norm_round  \\\n",
      "3                      1.0                         2.5              2.5   \n",
      "85                     1.5                         3.0              3.5   \n",
      "47                     1.5                         2.5              2.5   \n",
      "19                     1.5                         2.5              3.0   \n",
      "134                    1.5                         2.5              3.5   \n",
      "\n",
      "     Metacritic_user_vote_count  IMDB_user_vote_count  Fandango_votes  \\\n",
      "3                            31                  3136            1793   \n",
      "85                           38                  5927             811   \n",
      "47                          108                 19222            6835   \n",
      "19                          246                 19521            3886   \n",
      "134                          49                 25214            2603   \n",
      "\n",
      "     Fandango_Difference  fm_diff  \n",
      "3                    0.5      4.0  \n",
      "85                   0.2      3.0  \n",
      "47                   0.3      3.0  \n",
      "19                   0.4      3.0  \n",
      "134                  0.0      3.0  \n",
      "\n",
      "[5 rows x 23 columns]\n"
     ]
    }
   ],
   "source": [
    "# find movies that have very different scores on the two critics sites\n",
    "movies[\"fm_diff\"] = np.abs(movies[\"Fandango_Stars\"] - movies[\"Metacritic_norm_round\"])\n",
    "print(movies.sort_values(\"fm_diff\", ascending=False).head())"
   ]
  },
  {
   "cell_type": "code",
   "execution_count": 7,
   "metadata": {
    "collapsed": false
   },
   "outputs": [
    {
     "name": "stdout",
     "output_type": "stream",
     "text": [
      "r-value: 0.17844919073895918, p-value: 0.031161516228523815\n"
     ]
    }
   ],
   "source": [
    "# find the r-value describing the correlation between the Fandango stars and the normalized Metacritic scores\n",
    "r_value, p_value = pearsonr(movies[\"Fandango_Stars\"], movies[\"Metacritic_norm_round\"])\n",
    "print(\"r-value: {0}, p-value: {1}\".format(r_value, p_value))"
   ]
  },
  {
   "cell_type": "markdown",
   "metadata": {},
   "source": [
    "discuss low r-value... indicates that the ratings on Fandango and Metacritic are fundamentally different, scores seem inflated on Fandango"
   ]
  },
  {
   "cell_type": "code",
   "execution_count": 8,
   "metadata": {
    "collapsed": false,
    "scrolled": true
   },
   "outputs": [
    {
     "data": {
      "text/plain": [
       "[(0, 5),\n",
       " <matplotlib.text.Text at 0x7f90fe3b72b0>,\n",
       " (0, 5),\n",
       " <matplotlib.text.Text at 0x7f90fe435eb8>]"
      ]
     },
     "execution_count": 8,
     "metadata": {},
     "output_type": "execute_result"
    },
    {
     "data": {
      "image/png": "[encoded data removed]",
      "text/plain": [
       "<matplotlib.figure.Figure at 0x7f90fe47e710>"
      ]
     },
     "metadata": {},
     "output_type": "display_data"
    }
   ],
   "source": [
    "# create a linear regression line using the normalized Metacritic scores as x-values and the Fandango stars as \n",
    "# y-values\n",
    "slope, intercept, rvalue, pvalue, stderr = linregress(movies[\"Metacritic_norm_round\"], movies[\"Fandango_Stars\"])\n",
    "\n",
    "# plot the regression line\n",
    "fig4 = plt.figure()\n",
    "ax4 = fig4.add_subplot(1, 1, 1)\n",
    "\n",
    "x = np.arange(0, 6)\n",
    "y = slope * x + intercept\n",
    "ax4.scatter(movies[\"Metacritic_norm_round\"], movies[\"Fandango_Stars\"])\n",
    "ax4.plot(x, y)\n",
    "ax4.set(xlabel=\"Metacritic_norm_round\", ylabel=\"Fandango_Stars\", xlim=(0, 5), ylim=(0, 5))"
   ]
  },
  {
   "cell_type": "code",
   "execution_count": 9,
   "metadata": {
    "collapsed": false
   },
   "outputs": [
    {
     "name": "stdout",
     "output_type": "stream",
     "text": [
      "Fandango_Stars predicted for Metacritic_norm_round of 3.0: 4.091707152821204\n",
      "Fandango_Stars predicted for Metacritic_norm_round of 4.0: 4.189018230795132\n"
     ]
    }
   ],
   "source": [
    "# predict the Fandango score a movie with a Metacritic rating of 3.0 would get using the regression line\n",
    "fandango_predicted1 = 3.0 * slope + intercept\n",
    "print(\"Fandango_Stars predicted for Metacritic_norm_round of 3.0: {0}\".format(fandango_predicted1))\n",
    "\n",
    "fandango_predicted2 = 4.0 * slope + intercept\n",
    "print(\"Fandango_Stars predicted for Metacritic_norm_round of 4.0: {0}\".format(fandango_predicted2))"
   ]
  },
  {
   "cell_type": "markdown",
   "metadata": {},
   "source": [
    "potential next steps....\n",
    "\n",
    "- compare IMDB and RottenTomatoes scores\n",
    "- see how they compare to the Fandango ratings\n",
    "- compare user and critic scores\n"
   ]
  }
 ],
 "metadata": {
  "kernelspec": {
   "display_name": "Python 3",
   "language": "python",
   "name": "python3"
  },
  "language_info": {
   "codemirror_mode": {
    "name": "ipython",
    "version": 3
   },
   "file_extension": ".py",
   "mimetype": "text/x-python",
   "name": "python",
   "nbconvert_exporter": "python",
   "pygments_lexer": "ipython3",
   "version": "3.4.3"
  }
 },
 "nbformat": 4,
 "nbformat_minor": 0
}
