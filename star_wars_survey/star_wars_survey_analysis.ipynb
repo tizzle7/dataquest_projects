{
 "cells": [
  {
   "cell_type": "markdown",
   "metadata": {},
   "source": [
    "star wars survey analysis"
   ]
  },
  {
   "cell_type": "code",
   "execution_count": 44,
   "metadata": {
    "collapsed": true
   },
   "outputs": [],
   "source": [
    "import numpy as np\n",
    "import pandas as pd\n",
    "import matplotlib.pyplot as plt\n",
    "\n",
    "%matplotlib inline\n",
    "\n",
    "# import data\n",
    "star_wars = pd.read_csv(\"star_wars_survey.csv\", encoding=\"ISO-8859-1\")"
   ]
  },
  {
   "cell_type": "markdown",
   "metadata": {},
   "source": [
    "data clean up, the data file contains two header rows, rename some column names using the data from the second header row, small helper function is used for this task, and finally get rid of the second header row, "
   ]
  },
  {
   "cell_type": "code",
   "execution_count": 45,
   "metadata": {
    "collapsed": true
   },
   "outputs": [],
   "source": [
    "def rename_column_names(df, old_column_names, new_column_names):\n",
    "    \"\"\" Rename column names of specified dataframe to the new values.\"\"\"\n",
    "    \n",
    "    rename_dict = dict(zip(old_column_names, new_column_names))\n",
    "    df = df.rename(columns=rename_dict)\n",
    "\n",
    "    return df\n",
    "\n",
    "# rename column names that contain answers to which episodes the participants have seen\n",
    "episodes_seen_list = [\"Episode I_seen\", \"Episode II_seen\", \"Episode III_seen\",\n",
    "                      \"Episode IV_seen\", \"Episode V_seen\", \"Episode VI_seen\"] \n",
    "old_column_names = star_wars.columns[3:9].tolist()\n",
    "new_column_names = episodes_seen_list\n",
    "\n",
    "star_wars = rename_column_names(star_wars, old_column_names, new_column_names)\n",
    "\n",
    "# rename ranking column names\n",
    "episodes_ranking_list = [\"Episode I_ranking\", \"Episode II_ranking\", \"Episode III_ranking\",\n",
    "                      \"Episode IV_ranking\", \"Episode V_ranking\", \"Episode VI_ranking\"] \n",
    "old_column_names = star_wars.columns[9:15].tolist()\n",
    "new_column_names = episodes_ranking_list\n",
    "\n",
    "star_wars = rename_column_names(star_wars, old_column_names, new_column_names)\n",
    "\n",
    "# rename character ranking column names\n",
    "old_column_names = star_wars.columns[15:29].tolist()\n",
    "new_column_names = star_wars[star_wars.columns[15:29]].iloc[0].values.tolist()\n",
    "\n",
    "star_wars = rename_column_names(star_wars, old_column_names, new_column_names)\n",
    "\n",
    "# remove respondents without ID (second header row)\n",
    "star_wars = star_wars[pd.notnull(star_wars[\"RespondentID\"])]"
   ]
  },
  {
   "cell_type": "markdown",
   "metadata": {},
   "source": [
    "replace certain survey answers to enable easier data analysis"
   ]
  },
  {
   "cell_type": "code",
   "execution_count": 46,
   "metadata": {
    "collapsed": true
   },
   "outputs": [],
   "source": [
    "def replace_column_values(df, column_name, old_answers, new_answers):\n",
    "    \"\"\"Replace the specified column values with the new values.\"\"\"\n",
    "    replace_dict = dict(zip(old_answers, new_answers))\n",
    "    df[column_name] = df[column_name].replace(replace_dict)\n",
    "\n",
    "    return df\n",
    "\n",
    "# rename yes/no/nan answers if the participants have seen any of the Star Wars\n",
    "# movies or consider themselves star wars fans to True/False\n",
    "any_episode_seen = \"Have you seen any of the 6 films in the Star Wars franchise?\"\n",
    "old_answers = [\"Yes\", \"No\", np.nan]\n",
    "new_answers = [True, False, False]\n",
    "\n",
    "star_wars = replace_column_values(star_wars, any_episode_seen, old_answers, new_answers)\n",
    "\n",
    "consider_fan = \"Do you consider yourself to be a fan of the Star Wars film franchise?\"\n",
    "\n",
    "star_wars = replace_column_values(star_wars, consider_fan, old_answers, new_answers)\n",
    "\n",
    "# replace answers to which episode the participants have seen with True/False values\n",
    "old_answers = pd.unique(star_wars[\n",
    "    star_wars.columns[3:9]].values.ravel()).tolist() # find unique values in survey columns\n",
    "new_answers = [True for i in range(6)]\n",
    "new_answers.append(False)\n",
    "\n",
    "for col in star_wars.columns[3:9]:\n",
    "    star_wars = replace_column_values(star_wars, col, old_answers, new_answers)\n",
    "\n",
    "# convert values in ranking columns to floats\n",
    "star_wars[star_wars.columns[9:15]] = star_wars[star_wars.columns[9:15]].astype(float)\n",
    "\n",
    "# replace answers to character rankings with numerical scale from 2 (very favorably)\n",
    "# to -2 (very unfavorably)\n",
    "old_answers = [\"Very favorably\",\n",
    "                  \"Somewhat favorably\",\n",
    "                  \"Neither favorably nor unfavorably (neutral)\",\n",
    "                  \"Somewhat unfavorably\",\n",
    "                  \"Very unfavorably\",\n",
    "                  \"Unfamiliar (N/A)\"]\n",
    "new_answers = [\"2\",\n",
    "                  \"1\",\n",
    "                  \"0\",\n",
    "                  \"-1\",\n",
    "                  \"-2\",\n",
    "                  np.nan]\n",
    "\n",
    "for col in star_wars.columns[15:29]:\n",
    "    star_wars = replace_column_values(star_wars, col, old_answers, new_answers)\n",
    "\n",
    "# convert character rankings columns to float data type\n",
    "star_wars[star_wars.columns[15:29]] = star_wars[star_wars.columns[15:29]].astype(float)"
   ]
  },
  {
   "cell_type": "markdown",
   "metadata": {},
   "source": [
    "calculate mean rankings and total viewer numbers for each star wars episode and display the results in a bar chart"
   ]
  },
  {
   "cell_type": "code",
   "execution_count": 47,
   "metadata": {
    "collapsed": false
   },
   "outputs": [
    {
     "data": {
      "image/png": "[encoded data removed]",
      "text/plain": [
       "<matplotlib.figure.Figure at 0x7f6415444390>"
      ]
     },
     "metadata": {},
     "output_type": "display_data"
    },
    {
     "data": {
      "image/png": "[encoded data removed]",
      "text/plain": [
       "<matplotlib.figure.Figure at 0x7f64153a2d30>"
      ]
     },
     "metadata": {},
     "output_type": "display_data"
    }
   ],
   "source": [
    "# calculate the mean ranking for each star wars film\n",
    "mean_rankings = star_wars[star_wars.columns[9:15]].mean()\n",
    "\n",
    "# plot mean rankings in a bar plot for each episode\n",
    "fig1 = plt.figure()\n",
    "ax = fig1.add_subplot(1, 1, 1)\n",
    "\n",
    "ax.set(title=\"Rankings for each Episode\",\n",
    "       ylabel=\"Mean Ranking\",\n",
    "       xticks=(np.arange(6) + 0.4), xticklabels=[\"Episode I\", \"Episode II\",\n",
    "                                                 \"Episode III\", \"Episode IV\",\n",
    "                                                 \"Episode V\", \"Episode VI\"])\n",
    "ax.bar(range(6), mean_rankings)\n",
    "plt.show()\n",
    "\n",
    "# calculate how many people have seen each movie\n",
    "sum_seens = star_wars[star_wars.columns[3:9]].sum()\n",
    "\n",
    "# plot the viewer numbers for each episode in a bar chart\n",
    "fig2 = plt.figure()\n",
    "ax = fig2.add_subplot(1, 1, 1)\n",
    "\n",
    "ax.set(title=\"Viewer Number for each Episode\",\n",
    "       ylabel=\"Viewer Number\",\n",
    "       xticks=(np.arange(6) + 0.4), xticklabels=[\"Episode I\", \"Episode II\",\n",
    "                                                 \"Episode III\", \"Episode IV\",\n",
    "                                                 \"Episode V\", \"Episode VI\"])\n",
    "ax.bar(range(6), sum_seens)\n",
    "plt.show()"
   ]
  },
  {
   "cell_type": "markdown",
   "metadata": {},
   "source": [
    "split the datasets into survey participants that consider themselves fans and others that do not, repeat the calculations from the previous step for each group individually"
   ]
  },
  {
   "cell_type": "code",
   "execution_count": 48,
   "metadata": {
    "collapsed": false
   },
   "outputs": [
    {
     "data": {
      "image/png": "[encoded data removed]",
      "text/plain": [
       "<matplotlib.figure.Figure at 0x7f6415379588>"
      ]
     },
     "metadata": {},
     "output_type": "display_data"
    }
   ],
   "source": [
    "# split dataframe into participants that consider themselves star wars fans\n",
    "# or not\n",
    "sw_fan_column = \"Do you consider yourself to be a fan of the Star Wars film franchise?\"\n",
    "sw_fans = star_wars[star_wars[sw_fan_column] == True]\n",
    "not_sw_fans = star_wars[star_wars[sw_fan_column] == False]\n",
    "\n",
    "# number of viewers of each episode for star wars fans and not star wars fans\n",
    "sum_seens_sw_fans = sw_fans[sw_fans.columns[3:9]].sum()\n",
    "sum_seens_not_sw_fans = not_sw_fans[not_sw_fans.columns[3:9]].sum()\n",
    "\n",
    "# mean rankings for each episode for star wars fans and not star wars fans\n",
    "mean_rankings_sw_fans = sw_fans[sw_fans.columns[9:15]].mean()\n",
    "mean_rankings_not_sw_fans = not_sw_fans[not_sw_fans.columns[9:15]].mean()\n",
    "\n",
    "# plot number of viewers and mean rankings for both participant groups\n",
    "# to compare the results\n",
    "fig3 = plt.figure()\n",
    "ax1 = fig3.add_subplot(2, 2, 1)\n",
    "ax2 = fig3.add_subplot(2, 2, 2)\n",
    "ax3 = fig3.add_subplot(2, 2, 3)\n",
    "ax4 = fig3.add_subplot(2, 2, 4)\n",
    "\n",
    "ax1.set(ylabel=\"Viewer Number\",\n",
    "        xticks=(np.arange(6) + 0.4), xticklabels=[\"E I\", \"E II\",\n",
    "                                                  \"E III\", \"E IV\",\n",
    "                                                  \"E V\", \"E VI\"])\n",
    "ax2.set(xticks=(np.arange(6) + 0.4), xticklabels=[\"E I\", \"E II\",\n",
    "                                                  \"E III\", \"E IV\",\n",
    "                                                  \"E V\", \"E VI\"])\n",
    "ax3.set(ylabel=\"Mean Ranking\",\n",
    "        xticks=(np.arange(6) + 0.4), xticklabels=[\"E I\", \"E II\",\n",
    "                                                  \"E III\", \"E IV\",\n",
    "                                                  \"E V\", \"E VI\"])\n",
    "ax4.set(xticks=(np.arange(6) + 0.4), xticklabels=[\"E I\", \"E II\",\n",
    "                                                  \"E III\", \"E IV\",\n",
    "                                                  \"E V\", \"E VI\"])\n",
    "ax1.bar(range(6), sum_seens_sw_fans)\n",
    "ax2.bar(range(6), sum_seens_not_sw_fans)\n",
    "ax3.bar(range(6), mean_rankings_sw_fans)\n",
    "ax4.bar(range(6), mean_rankings_not_sw_fans)\n",
    "plt.show()"
   ]
  },
  {
   "cell_type": "markdown",
   "metadata": {},
   "source": [
    "calculate the mean rankings for each character mentioned in the survey and compare the results in a bar chart"
   ]
  },
  {
   "cell_type": "code",
   "execution_count": 49,
   "metadata": {
    "collapsed": false
   },
   "outputs": [
    {
     "data": {
      "image/png": "[encoded data removed]",
      "text/plain": [
       "<matplotlib.figure.Figure at 0x7f64155bcb38>"
      ]
     },
     "metadata": {},
     "output_type": "display_data"
    }
   ],
   "source": [
    "# calculate the mean ranking for each character\n",
    "mean_rankings_characters = star_wars[star_wars.columns[15:29]].mean()\n",
    "\n",
    "# create scatter plot of character ranking results\n",
    "fig4 = plt.figure(figsize=(13,6))\n",
    "ax = fig4.add_subplot(1, 1, 1)\n",
    "\n",
    "x_labels = [label.replace(\" \", \"\\n\") for label in star_wars.columns[15:29].tolist()]\n",
    "y_labels = [\"Very favorably\",\n",
    "            \"Somewhat favorably\",\n",
    "            \"Neither favorably nor\\nunfavorably (neutral)\",\n",
    "            \"Somewhat unfavorably\",\n",
    "            \"Very unfavorably\"]\n",
    "\n",
    "old_answers[:-1][::-1]\n",
    "\n",
    "ax.set(title=\"Character Rankings\",\n",
    "       ylabel=\"Mean Ranking\",\n",
    "       xlim=[-0.5, 14.5],\n",
    "       ylim=[-2.2, 2.2],\n",
    "       xticks=np.arange(14) + 0.4,\n",
    "       xticklabels=x_labels,\n",
    "       yticks=[-2, -1, 0, 1, 2],\n",
    "       yticklabels=y_labels)\n",
    "\n",
    "# different colors for positive and negative bars\n",
    "colors = np.array([(1,0,0)] * len(mean_rankings_characters.index))\n",
    "colors[np.array(mean_rankings_characters) >= 0] = (0,0,1)\n",
    "\n",
    "ax.bar(range(14), mean_rankings_characters, color=colors)\n",
    "ax.yaxis.grid()\n",
    "plt.show()"
   ]
  }
 ],
 "metadata": {
  "kernelspec": {
   "display_name": "Python 3",
   "language": "python",
   "name": "python3"
  },
  "language_info": {
   "codemirror_mode": {
    "name": "ipython",
    "version": 3
   },
   "file_extension": ".py",
   "mimetype": "text/x-python",
   "name": "python",
   "nbconvert_exporter": "python",
   "pygments_lexer": "ipython3",
   "version": "3.4.3"
  }
 },
 "nbformat": 4,
 "nbformat_minor": 0
}
